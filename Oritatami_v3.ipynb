{
 "cells": [
  {
   "cell_type": "code",
   "execution_count": 12,
   "metadata": {
    "jupyter": {
     "outputs_hidden": true
    }
   },
   "outputs": [
    {
     "name": "stderr",
     "output_type": "stream",
     "text": [
      "\u001b[32m\u001b[1m   Updating\u001b[22m\u001b[39m registry at `C:\\Users\\szilard\\.julia\\registries\\General`\n",
      "\u001b[32m\u001b[1m  Resolving\u001b[22m\u001b[39m package versions...\n",
      "\u001b[32m\u001b[1mUpdating\u001b[22m\u001b[39m `C:\\Users\\szilard\\.julia\\environments\\v1.5\\Project.toml`\n",
      " \u001b[90m [5ae59095] \u001b[39m\u001b[92m+ Colors v0.12.4\u001b[39m\n",
      "\u001b[32m\u001b[1mNo Changes\u001b[22m\u001b[39m to `C:\\Users\\szilard\\.julia\\environments\\v1.5\\Manifest.toml`\n"
     ]
    },
    {
     "data": {
      "text/plain": [
       "false"
      ]
     },
     "execution_count": 12,
     "metadata": {},
     "output_type": "execute_result"
    }
   ],
   "source": [
    "#using Pkg\n",
    "#Pkg.add(\"Colors\")\n",
    "#Pkg.add(\"WGLMakie\")\n",
    "#Pkg.add(\"Colors\")\n",
    "\n",
    "using Colors\n",
    "#using GLMakie\n",
    "#using GLMakie.AbstractPlotting\n",
    "using WGLMakie\n",
    "using WGLMakie.AbstractPlotting\n",
    "\n",
    "AbstractPlotting.inline!(true)"
   ]
  },
  {
   "cell_type": "code",
   "execution_count": 2,
   "metadata": {
    "jupyter": {
     "source_hidden": true
    }
   },
   "outputs": [
    {
     "data": {
      "text/plain": [
       "\"AUrisim-master\\\\binCount.auri.txt\""
      ]
     },
     "execution_count": 2,
     "metadata": {},
     "output_type": "execute_result"
    }
   ],
   "source": [
    "#using Plots\n",
    "using ColorSchemes\n",
    "\n",
    "delta = 2\n",
    "arity = 4\n",
    "\n",
    "#neighborhood = [(1,0), (1,1), (0,1), (-1,0), (-1,-1), (0,-1)]\n",
    "\n",
    "neighborhood = [[1,0], [1,1], [0,1], [-1,0], [-1,-1], [0,-1]]\n",
    "\n",
    "drawCount = 50\n",
    "\n",
    "sigma = [1,2,1,2,3,1,2,1,3,3,2,1,1,2]\n",
    "\n",
    "transcript = [\"0\",\"6\",\"8\",\"5\",\"7\",\"2\",\"4\",\"1\",\"4\",\"2\",\"7\",\"5\",\"8\",\"5\",\"7\",\"2\",\"7\",\"0\",\"0\"]\n",
    "\n",
    "#beads = Dict([((0,0),[\"0\",[]]), ((-1,0),[\"2\",[]]), ((0,1),[\"0\",[]])])\n",
    "\n",
    "#beads = Dict([((0,0),[\"0\",[]]), ((-1,0),[\"2\",[]]), ((1,1),[\"2\",[]]), ((0,1),[\"2\",[]]), ((1,0),[\"2\",[]]), ((-1,-1),[\"2\",[]])])\n",
    "#Dict([((0,1),[\"0\",[]]),((0,2),[\"0\",[]]),((-1,1),[\"0\",[]]),((-1,0),[\"0\",[]])])\n",
    "\n",
    "beads = Dict()\n",
    "\n",
    "dirs = [[1,0], [0,1], [-1,1], [-1,0], [0,-1], [1,-1]]\n",
    "\n",
    "#hood =        [          (-2,2),   (-1,2),   (0,2),\n",
    "#                     (-2,1),  (-1,1),   (0,1),    (1,1),\n",
    "#                 (-2,0),  (-1,0),   (0,0),    (1,0),   (2,0),\n",
    "#                     (-1,-1), (0,-1),   (1,-1),   (2,-1),\n",
    "#                          (0,-2),   (1,-2),   (2,-2)]\n",
    "\n",
    "\n",
    "hood =        [          [-2,2],   [-1,2],   [0,2],\n",
    "                     [-2,1],  [-1,1],   [0,1],    [1,1],\n",
    "                 [-2,0],  [-1,0],   [0,0],    [1,0],   [2,0],\n",
    "                     [-1,-1], [0,-1],   [1,-1],   [2,-1],\n",
    "                          [0,-2],   [1,-2],   [2,-2]]\n",
    "\n",
    "\n",
    "perimeter = [hood[1], hood[2], hood[3], hood[7], \n",
    "             hood[12], hood[16], hood[19], hood[18], \n",
    "             hood[17], hood[13], hood[8], hood[4]]\n",
    "\n",
    "initpath1 = [(0,0),(1,0), (1,1)]\n",
    "initpath2 = [(0,0),(1,0), (0,-1)]\n",
    "initpath3 = [(0,0),(1,0), (2,0), (2,1)]\n",
    "\n",
    "#currentpath = []\n",
    "#testpath = [np.array((0,1)),np.array((1,0)),np.array((1,-1)),np.array((0,-1)),np.array((-1,0)),np.array((-1,1)),np.array((0,0))]\n",
    "\n",
    "gridp = [[-2, 0], [-2, 1], [-2, 2], [-1, -1], [-1, 0], [-1, 1], [-1, 2], [0, -2], [0, -1], [0, 0], [0, 1], \n",
    "    [0, 2], [1, -2], [1, -1], [1, 0], [1, 1], [2, -2], [2, -1], [2, 0] ]\n",
    "\n",
    "shear = [1 -0.5;0 sqrt(3)/2]\n",
    "\n",
    "rules = Dict([(\"0\",[\"0\",\"1\"]),(\"1\",[\"0\",\"1\"]),(\"2\",[])])\n",
    "\n",
    "gliderfile = \"AUrisim-master\\\\glidersample.auri.txt\"\n",
    "pyramidfile = \"AUrisim-master\\\\pyramidsample.auri.txt\"\n",
    "bincountfile = \"AUrisim-master\\\\binCount.auri.txt\""
   ]
  },
  {
   "cell_type": "code",
   "execution_count": 3,
   "metadata": {
    "jupyter": {
     "source_hidden": true
    }
   },
   "outputs": [
    {
     "data": {
      "text/plain": [
       "fold (generic function with 1 method)"
      ]
     },
     "execution_count": 3,
     "metadata": {},
     "output_type": "execute_result"
    }
   ],
   "source": [
    "function fold(scene, path, labels, trlength)\n",
    "    # FIRST STABILIZATION\n",
    "    #***************************************\n",
    "    tmp = findFirstFast(path[end],append!([os[3][end][1]], transcript[1:delta]))\n",
    "\n",
    "    # findFirstFast returns with an array containing elements [path,bondset-per-bead,strength-of-elongation]\n",
    "    if tmp != []\n",
    "        beads[tmp[1][1][2]] = [transcript[1],[]]\n",
    "\n",
    "        for bond in tmp[1][2][1][1]\n",
    "                push!(beads[tmp[1][1][2]][2], tmp[1][1][2].+bond)\n",
    "        end\n",
    "        push!(path,tmp[1][1][2])\n",
    "        push!(labels, transcript[1])\n",
    "    else\n",
    "        println(\"Stop bead: \", 1, \"  Position: \", path[end])\n",
    "    end\n",
    "\n",
    "\n",
    "    # STABILIZATION AFTER FIRST BEAD\n",
    "    #***************************************\n",
    "    period = length(transcript)\n",
    "    append!(transcript,transcript[1:delta])\n",
    "\n",
    "    for i=0:max(length(transcript)-delta, trlength)\n",
    "\n",
    "        tmptr = transcript[1+mod(i,period):1+mod(i,period)+delta]\n",
    "\n",
    "        tmp = findFirstFast(path[end],tmptr)\n",
    "\n",
    "        if tmp != []\n",
    "            beads[tmp[1][1][2]] = [tmptr[2],[]]\n",
    "\n",
    "            for bond in tmp[1][2][1][1]\n",
    "                if tmp[1][1][2].+bond in keys(beads)\n",
    "                    push!(beads[tmp[1][1][2]][2], tmp[1][1][2].+bond)\n",
    "                end\n",
    "            end\n",
    "            push!(path,tmp[1][1][2])\n",
    "            push!(labels, tmptr[2])\n",
    "        else\n",
    "            println(\"Stop bead: \", i, \"  Position: \", path[end], \"  Transcript window: \", tmptr)\n",
    "            break\n",
    "        end\n",
    "    end\n",
    "\n",
    "    plotPath2(scene, path, labels)\n",
    "end\n"
   ]
  },
  {
   "cell_type": "code",
   "execution_count": 4,
   "metadata": {
    "jupyter": {
     "source_hidden": true
    }
   },
   "outputs": [
    {
     "data": {
      "text/plain": [
       "plotPath (generic function with 4 methods)"
      ]
     },
     "execution_count": 4,
     "metadata": {},
     "output_type": "execute_result"
    }
   ],
   "source": [
    "function plotPath(scene, fpath, fcolored, labels=[], anim=false, bonds=[])\n",
    "    tmp1 = []\n",
    "    minx = maxx = fpath[1][1]\n",
    "    miny = maxy = fpath[1][2]\n",
    "    fbeadtypes = Dict()\n",
    "    fbeadtypecount = 0\n",
    "    fcolorpath = []\n",
    "    if fcolored == true\n",
    "        fcolors = colorschemes[:tab20]\n",
    "        for i=1:length(fpath)\n",
    "            if fpath[i][1] < minx\n",
    "                minx = fpath[i][1]\n",
    "            elseif fpath[i][1]>maxx\n",
    "                maxx = fpath[i][1]\n",
    "            end\n",
    "            if fpath[i][2] < miny\n",
    "                miny = fpath[i][2]\n",
    "            elseif fpath[i][2]>maxy\n",
    "                maxy = fpath[i][2]\n",
    "            end\n",
    "        end\n",
    "        if labels != []\n",
    "            for i=1:length(fpath)\n",
    "                if !(labels[i] in keys(fbeadtypes))\n",
    "                    fbeadtypes[labels[i]] = fbeadtypecount+1\n",
    "                    fbeadtypecount += 1\n",
    "                end\n",
    "                push!(fcolorpath, fcolors[1+mod(fbeadtypes[labels[i]],20)])\n",
    "            end\n",
    "        end\n",
    "    end\n",
    "\n",
    "    for i=1:length(fpath)\n",
    "        push!(tmp1,shear*[fpath[i][1],fpath[i][2]])\n",
    "    end\n",
    "    \n",
    "    tmp = [Point2f0(bead[1], bead[2]) for bead in tmp1]\n",
    "    lines!(scene, tmp, color = RGBA(0.1,0.1,0.1,0.8), linewidth = 3)\n",
    "    scatter!(scene, tmp, \n",
    "        color = fcolorpath,\n",
    "#        size = (1800, 800),\n",
    "#        aspect_ratio=:equal, \n",
    "#        grid=false, \n",
    "        marker = :hexagon,\n",
    "        markersize = 7,\n",
    "#        xlims = (minx-1,maxx+3),\n",
    "#        ylims = (miny-1,maxy+3),\n",
    "#        xticks = 0:1:10,\n",
    "#        linealpha = 0.5,\n",
    "#        linewidth = 3,\n",
    "#        linecolor = RGBA{Float32}(0.10,0.10,0.10,1)\n",
    "        )\n",
    "#        linecolor = :black)\n",
    "    for bead in keys(beads)\n",
    "        for bond in beads[bead][2]\n",
    "            push!(bonds, [bead, bond])\n",
    "        end\n",
    "    end\n",
    "    \n",
    "    for bond in bonds\n",
    "        from = Point2f0(shear*bond[1])\n",
    "        to = Point2f0(shear*bond[2])\n",
    "#        pl = plot!([tmp1[1],tmp2[1]], [tmp1[2],tmp2[2]],\n",
    "        pl = linesegments!(scene, [from+(to-from)/3, to - (to-from)/3],\n",
    "#            [tmp1[1]+(tmp2[1]-tmp1[1])/3,tmp1[1]+2*(tmp2[1]-tmp1[1])/3], [tmp1[2]+(tmp2[2]-tmp1[2])/3,tmp1[2]+2*(tmp2[2]-tmp1[2])/3]            \n",
    "            color = :red,\n",
    "#            linewidth = 1,\n",
    "#            linecolor = :red,\n",
    "#            legend = false\n",
    "        )\n",
    "    end\n",
    "    if anim == false\n",
    "        display(scene)\n",
    "    end\n",
    "end"
   ]
  },
  {
   "cell_type": "code",
   "execution_count": 5,
   "metadata": {
    "jupyter": {
     "source_hidden": true
    }
   },
   "outputs": [
    {
     "data": {
      "text/plain": [
       "loadOS (generic function with 1 method)"
      ]
     },
     "execution_count": 5,
     "metadata": {},
     "output_type": "execute_result"
    }
   ],
   "source": [
    "function loadOS(file)\n",
    "    io = open(file, read=true)\n",
    "    f = read(io,String)\n",
    "    close(io)\n",
    "\n",
    "    os = split(f,\"\\n\")\n",
    "\n",
    "    fdelta = parse(UInt8, os[1])\n",
    "\n",
    "    farity = parse(UInt8, os[2])\n",
    "\n",
    "    fseed = []\n",
    "\n",
    "    for fbeadstr in split(os[3],\"->\")\n",
    "        fbead = split(fbeadstr,\",\")\n",
    "        push!(fseed,[string(fbead[1]), parse(Int, fbead[2]), parse(Int, fbead[3])])\n",
    "    end\n",
    "    \n",
    "    for fbead in fseed\n",
    "        beads[[fbead[2],fbead[3]]] = [fbead[1],[]]\n",
    "    end\n",
    "    \n",
    "    ftranscript = split(strip(os[4]),\",\")\n",
    "\n",
    "    frules = Dict{String, Array{String}}()\n",
    "    for frule in split(os[5],\",\")\n",
    "        sides = split(frule, \"=\")\n",
    "        if haskey(frules, sides[1])\n",
    "            push!(frules[sides[1]], sides[2])\n",
    "        else\n",
    "            frules[sides[1]] = [sides[2]]\n",
    "        end\n",
    "\n",
    "        if haskey(frules, sides[2])\n",
    "            push!(frules[sides[2]], sides[1])\n",
    "        else\n",
    "            frules[sides[2]] = [sides[1]]\n",
    "        end\n",
    "    end\n",
    "    \n",
    "    return [fdelta, farity, fseed, ftranscript, frules, beads]\n",
    "end"
   ]
  },
  {
   "cell_type": "code",
   "execution_count": 6,
   "metadata": {
    "jupyter": {
     "source_hidden": true
    }
   },
   "outputs": [
    {
     "data": {
      "text/plain": [
       "generateDeltaPathFast (generic function with 1 method)"
      ]
     },
     "execution_count": 6,
     "metadata": {},
     "output_type": "execute_result"
    }
   ],
   "source": [
    "function genComb(n, k)\n",
    "\tif n < k || k < 0\n",
    "\t\treturn []\n",
    "    end\n",
    "\tindex = k\n",
    "\tcombos = []\n",
    "\tcomb = []\n",
    "\n",
    "\tfor i=1:k\n",
    "\t\tpush!(comb,i)\n",
    "    end\n",
    "    push!(combos,copy(comb))\n",
    "\n",
    "\twhile index > 0\n",
    "\t\tif comb[index] < n-k+index\n",
    "\t\t\tcomb[index] += 1\n",
    "\t\t\tfor i=index+1:k\n",
    "\t\t\t\tcomb[i] = comb[i-1] + 1\n",
    "            end\n",
    "\t\t\tpush!(combos,copy(comb))\n",
    "\t\t\tindex = k\n",
    "\t\telse\n",
    "\t\t\tindex -= 1\n",
    "        end\n",
    "    end\n",
    "\treturn combos\n",
    "end\n",
    "\n",
    "# generate all combinations of k elements from set, using genComb(|set|, k) above\n",
    "function genCombSet(set,k)\n",
    "\ttmp = genComb(length(set), k)\n",
    "\tcombos = []\n",
    "\tcomb = []\n",
    "\tfor i in tmp\n",
    "\t\tcomb = []\n",
    "\t\tfor j in i\n",
    "\t\t\tpush!(comb,set[j])\n",
    "        end\n",
    "        push!(combos,copy(comb))\n",
    "    end\n",
    "\treturn combos\n",
    "end\n",
    "\n",
    "# generate Cartesian power k of set, recursively\n",
    "function genCartPower(set, k)\n",
    "\tcart = []\n",
    "\tif set == [] || k == 0\n",
    "\t\treturn [[]]\n",
    "    end\n",
    "\ttmp = genCartPower(set, k-1)\n",
    "\tfor i in set\n",
    "\t\tfor j in tmp\n",
    "\t\t\tpush!(cart,push!(copy(j),i))\n",
    "        end\n",
    "    end\n",
    "\treturn cart\n",
    "end\n",
    "\n",
    "# generate Cartesian product of sets, recursively\n",
    "function genCart(sets)\n",
    "\tcart = []\n",
    "\tif sets == [] #|| getkey(sets,[],'x')=='x'\n",
    "\t\treturn [[]]\n",
    "    end\n",
    "\ttmp = pop!(sets)\n",
    "\ttmp2 = genCart(sets)\n",
    "\n",
    "\tfor i in tmp\n",
    "\t\tfor j in tmp2\n",
    "\t\t\tpush!(cart,append!([i],j))\n",
    "        end\n",
    "    end\n",
    "\treturn cart\n",
    "end\n",
    "\n",
    "\n",
    "function generateDeltaPathFast(path, trans)\n",
    "\tdpath = [[copy(path)]]\n",
    "\tfor i=1 : delta - length(path)+1\n",
    "\t\tpush!(dpath,[])\n",
    "\t\tfor j in dpath[i]\n",
    "\t\t\tfor dir in neighborhood\n",
    "\t\t\t\tif !(haskey(beads,last(j).+dir) || last(j).+dir in j)\n",
    "\t\t\t\t\tpush!(dpath[i+1], push!(copy(j),last(j).+dir))\n",
    "                end\n",
    "            end\n",
    "        end\n",
    "    end\n",
    "\treturn last(dpath)\n",
    "end\n",
    "\n",
    "\n",
    "\n",
    "\n",
    "\n",
    "\n"
   ]
  },
  {
   "cell_type": "code",
   "execution_count": 7,
   "metadata": {
    "jupyter": {
     "source_hidden": true
    }
   },
   "outputs": [
    {
     "data": {
      "text/plain": [
       "valid (generic function with 1 method)"
      ]
     },
     "execution_count": 7,
     "metadata": {},
     "output_type": "execute_result"
    }
   ],
   "source": [
    "function valid(path, bondset, sol, index, trans)\n",
    "    if sol==length(bondset)*ones(length(sol))\n",
    "        #print(\"true\", path, \" BONDS \", sol, \"\\n\")\n",
    "        return true\n",
    "    end\n",
    "\ttmpBeads = Dict()\n",
    "    #println(sol, index)\n",
    "\tfor bead in path\n",
    "\t\tfor dir in neighborhood\n",
    "\t\t\tif bead.+dir in keys(beads)\n",
    "\t\t\t\ttmpBeads[bead.+dir] = [beads[bead.+dir][1], copy(beads[bead.+dir][2])]\n",
    "            end\n",
    "        end\n",
    "    end\n",
    "\n",
    "\tfor i=2:index+1\n",
    "\t\tif !(haskey(rules,trans[i]))\n",
    "\t\t\trules[trans[i]] = []\n",
    "        end\n",
    "\t\ttmpBeads[path[i]] = [trans[i],[]]\n",
    "\t\tfor bond in bondset[sol[i-1]]\n",
    "\t\t\tpush!(tmpBeads[path[i]][2],path[i].+bond)\n",
    "\t\t\tif (haskey(tmpBeads,path[i].+bond)) && !(path[i] in tmpBeads[path[i].+bond][2])\n",
    "\t\t\t\tpush!(tmpBeads[path[i].+bond][2],path[i])\n",
    "\t\t\t\tif length(tmpBeads[path[i].+bond][2]) > arity\n",
    "\t\t\t\t\treturn false\n",
    "                end\n",
    "            end\n",
    "        end\n",
    "    end\n",
    "\n",
    "\tfor i=2 : index+1\n",
    "\t\tfor bond in bondset[sol[i-1]]\n",
    "\t\t\tif i>1 && path[i].+bond == path[i-1]\n",
    "\t\t\t\treturn false\n",
    "            elseif !(haskey(tmpBeads,path[i].+bond))\n",
    "\t\t\t\treturn false\n",
    "            elseif !(tmpBeads[path[i].+bond][1] in rules[trans[i]])\n",
    "\t\t\t\treturn false\n",
    "            end\n",
    "        end\n",
    "    end\n",
    "\treturn true\n",
    "end"
   ]
  },
  {
   "cell_type": "code",
   "execution_count": 8,
   "metadata": {
    "jupyter": {
     "source_hidden": true
    }
   },
   "outputs": [
    {
     "data": {
      "text/plain": [
       "backtrackFastPrime (generic function with 1 method)"
      ]
     },
     "execution_count": 8,
     "metadata": {},
     "output_type": "execute_result"
    }
   ],
   "source": [
    "function backtrackFastPrime(path, trans, bondset)\n",
    "\ttmp = Dict()\n",
    "\tindex = 1\n",
    "\tsolutions = []\n",
    "\tsol = []\n",
    "\tbondNo = length(bondset)\n",
    "\tmaxstrength = -1\n",
    "\tdet = true\n",
    "\n",
    "\tfor i=1:delta\n",
    "\t\tpush!(sol,0)\n",
    "    end\n",
    "\n",
    "\twhile index > 0\n",
    "\t\tif sol[index] <= bondNo - 1\n",
    "\t\t\tsol[index] += 1\n",
    "\t\t\tstrength = 0\n",
    "\t\t\tfor i = 1:index\n",
    "\t\t\t\tstrength += length(bondset[sol[i]])\n",
    "            end\n",
    "\t\t\tif strength + (delta - index) * arity >= maxstrength\n",
    "\t\t\t\tif valid(path, bondset, sol, index, trans)\n",
    "\t\t\t\t\tif index == delta\n",
    "\n",
    "\t\t\t\t\t\tif strength > maxstrength\n",
    "\t\t\t\t\t\t\tmaxstrength = strength\n",
    "\t\t\t\t\t\t\tpushfirst!(solutions,copy(sol))\n",
    "\t\t\t\t\t\t\tdet = true\n",
    "                        elseif strength == maxstrength\n",
    "\t\t\t\t\t\t\tif sol[1] == solutions[1][1]\n",
    "\t\t\t\t\t\t\t\tpushfirst!(solutions, copy(sol))\n",
    "\t\t\t\t\t\t\telse\n",
    "\t\t\t\t\t\t\t\tdet = false\n",
    "                            end\n",
    "                        elseif sol[1] == solutions[1][1]\n",
    "\t\t\t\t\t\t\tpushfirst!(solutions,copy(sol))\n",
    "                        end\n",
    "\t\t\t\t\telse\n",
    "\t\t\t\t\t\tindex += 1\n",
    "\t\t\t\t\t\tsol[index] = 0\n",
    "                    end\n",
    "                end\n",
    "            end\n",
    "\t\telse\n",
    "\t\t\tindex -= 1\n",
    "        end\n",
    "    end\n",
    "\treturn [maxstrength, solutions, det]\n",
    "end\n"
   ]
  },
  {
   "cell_type": "code",
   "execution_count": 9,
   "metadata": {
    "jupyter": {
     "source_hidden": true
    }
   },
   "outputs": [
    {
     "data": {
      "text/plain": [
       "backtrackArity5 (generic function with 1 method)"
      ]
     },
     "execution_count": 9,
     "metadata": {},
     "output_type": "execute_result"
    }
   ],
   "source": [
    "function backtrackArity5(path, trans)\n",
    "\n",
    "    solution = []\n",
    "    strength = 0\n",
    "    \n",
    "    \n",
    "    for i=1:length(path)-1\n",
    "        push!(solution,[])\n",
    "    end\n",
    "    \n",
    "    tmpBeads = Dict()\n",
    "    \n",
    "    for i=2:length(path)\n",
    "        tmpBeads[path[i]] = [trans[i], []]\n",
    "        for dir in neighborhood\n",
    "            if (path[i].+dir in keys(beads)) && (trans[i] in rules[beads[path[i].+dir][1]])\n",
    "                push!(solution[i-1], dir)\n",
    "                strength += 1\n",
    "              \n",
    "            elseif (path[i].+dir in keys(tmpBeads)) &&  (path[i].+dir != path[i-1])  && (trans[i] in rules[tmpBeads[path[i].+dir][1]])\n",
    "                push!(solution[i-1], dir)\n",
    "                ind = findfirst(x -> x == path[i].+dir,path)\n",
    "                strength += 1\n",
    "            end\n",
    "        end\n",
    "        \n",
    "    end\n",
    "    solution = [sort(sol) for sol in solution]\n",
    "\treturn [strength, [solution], true]\n",
    "end\n"
   ]
  },
  {
   "cell_type": "code",
   "execution_count": 10,
   "metadata": {
    "jupyter": {
     "source_hidden": true
    }
   },
   "outputs": [
    {
     "data": {
      "text/plain": [
       "findFirstFast (generic function with 1 method)"
      ]
     },
     "execution_count": 10,
     "metadata": {},
     "output_type": "execute_result"
    }
   ],
   "source": [
    "function findFirstFast(pos, trans)\n",
    "\tdet = true\n",
    "\tbondset = [[]]\n",
    "    tmp = []\n",
    "\tmaxstrength = -1\n",
    "\tsolutions = []\n",
    "\n",
    "    paths = generateDeltaPathFast([pos], trans)\n",
    "\n",
    "    \n",
    "    if length(paths)>100000\n",
    "\t\tprint(length(paths))\n",
    "\t\treturn []\n",
    "    end\n",
    "\n",
    "    if arity < cutoff\n",
    "        for i = 1 : arity\n",
    "            bondset = append!(genCombSet(neighborhood, i), bondset)\n",
    "        end\n",
    "        for path in paths\n",
    "            tmp = backtrackFastPrime(path, trans, bondset)\n",
    "            if tmp[1] > maxstrength\n",
    "                if tmp[3]\n",
    "                    maxstrength = tmp[1]\n",
    "                    pushfirst!(solutions,[path, tmp[2], tmp[1]])\n",
    "                    det = true\n",
    "                else\n",
    "                    det = false\n",
    "                end\n",
    "            elseif tmp[1] == maxstrength\n",
    "                if solutions != []\n",
    "                    if !(path[2] == solutions[1][1][2])\n",
    "                        det = false\n",
    "                    elseif !(tmp[2][1][1] == solutions[1][2][1][1])\n",
    "                        det = false\n",
    "                    end\n",
    "                end\n",
    "                pushfirst!(solutions,[path, tmp[2], tmp[1]])\n",
    "            elseif tmp[1] < maxstrength\n",
    "                push!(solutions,[path, tmp[2], tmp[1]])\n",
    "            end\n",
    "        end\n",
    "        if det\n",
    "            tmp = []\n",
    "            for sol in solutions\n",
    "                if sol[1][2] == solutions[1][1][2]\n",
    "                    push!(tmp,sol)\n",
    "                end\n",
    "            end\n",
    "            return tmp\n",
    "        else\n",
    "            return []\n",
    "        end\n",
    "    else\n",
    "        for path in paths\n",
    "            tmp = backtrackArity5(path, trans)\n",
    "            if tmp[1] > maxstrength\n",
    "                maxstrength = tmp[1]\n",
    "                pushfirst!(solutions,[path, tmp[2], tmp[1]])\n",
    "                det = true\n",
    "            elseif tmp[1] == maxstrength\n",
    "                if solutions != []\n",
    "                    if !(path[2] == solutions[1][1][2])\n",
    "                        det = false\n",
    "                    elseif !(tmp[2][1][1] == solutions[1][2][1][1])\n",
    "                        det = false\n",
    "                    end\n",
    "                end\n",
    "                pushfirst!(solutions,[path, tmp[2], tmp[1]])\n",
    "                #print(solutions)\n",
    "            elseif tmp[1] < maxstrength\n",
    "                push!(solutions,[path, tmp[2], tmp[1]])\n",
    "            end\n",
    "        end\n",
    "        if det\n",
    "            tmp = []\n",
    "            for sol in solutions\n",
    "                if sol[1][2] == solutions[1][1][2]\n",
    "                    push!(tmp,sol)\n",
    "                end\n",
    "            end\n",
    "            return tmp\n",
    "        else\n",
    "            return []\n",
    "        end\n",
    "    end\n",
    "end\n"
   ]
  },
  {
   "cell_type": "code",
   "execution_count": 18,
   "metadata": {
    "jupyter": {
     "source_hidden": true
    }
   },
   "outputs": [
    {
     "data": {
      "text/plain": [
       "plotPath2 (generic function with 1 method)"
      ]
     },
     "execution_count": 18,
     "metadata": {},
     "output_type": "execute_result"
    }
   ],
   "source": [
    "function plotPath2(scene, fpath, labels)\n",
    "\n",
    "#    for i=1:length(fpath)\n",
    "#        push!(xpath,shear*[fpath[i][1],fpath[i][2]])\n",
    "#    end\n",
    "    xpath = [Point2f0(shear*bead) for bead in fpath]\n",
    "\n",
    "    fcolors = colorschemes[:tab20]\n",
    "    fcolorpath = []\n",
    "    fbeadtypes = Dict()\n",
    "    fbeadtypecount = 0\n",
    "    minx = 0\n",
    "    maxx = 0\n",
    "    miny = 0\n",
    "    maxy = 0\n",
    "    \n",
    "    \n",
    "    for i=1:length(fpath)\n",
    "        if fpath[i][1] < minx\n",
    "            minx = fpath[i][1]\n",
    "        elseif fpath[i][1]>maxx\n",
    "            maxx = fpath[i][1]\n",
    "        end\n",
    "        if fpath[i][2] < miny\n",
    "            miny = fpath[i][2]\n",
    "        elseif fpath[i][2]>maxy\n",
    "            maxy = fpath[i][2]\n",
    "        end\n",
    "    end\n",
    "    \n",
    "    for i=1:length(xpath)\n",
    "        if !(labels[i] in keys(fbeadtypes))\n",
    "            fbeadtypes[labels[i]] = fbeadtypecount+1\n",
    "            fbeadtypecount += 1\n",
    "        end\n",
    "    end\n",
    "\n",
    "\n",
    "    for i=1:length(xpath)\n",
    "        push!(fcolorpath, 1+mod(fbeadtypes[labels[i]],20))\n",
    "    end\n",
    "    \n",
    "    \n",
    "\n",
    "\n",
    "    lines!(scene, xpath, color = RGBA(0.1,0.1,0.1,0.8), linewidth = 3)\n",
    "    scatter!(scene, xpath,\n",
    "    #        Aspect(1,1),\n",
    "            color = fcolors[fcolorpath],\n",
    "    #        colormap = :tab20,\n",
    "    #        color = :black)\n",
    "    #        size = (1800, 800),\n",
    "    #        aspect_ratio=:equal, \n",
    "    #        grid=false, \n",
    "            marker = :hexagon,\n",
    "            markersize = 16/(abs(maxx-minx)/70))\n",
    "    #        xlims = (minx-1,maxx+3),\n",
    "    #        ylims = (-15,15))\n",
    "    #        xticks = 0:1:10,\n",
    "    #        linealpha = 0.5,\n",
    "    #        linewidth = 3,\n",
    "    #        linecolor = RGBA{Float32}(0.10,0.10,0.10,1)\n",
    "\n",
    "    #ylims!(oritatami,(-10,10))\n",
    "    \n",
    "    bonds = []\n",
    "    \n",
    "    for bead in keys(beads)\n",
    "        for bond in beads[bead][2]\n",
    "            push!(bonds, [bead, bond])\n",
    "        end\n",
    "    end\n",
    "    \n",
    "    for bond in bonds\n",
    "        from = Point2f0(shear*bond[1])\n",
    "        to = Point2f0(shear*bond[2])\n",
    "#        pl = plot!([tmp1[1],tmp2[1]], [tmp1[2],tmp2[2]],\n",
    "        linesegments!(scene, [from+(to-from)/3, to - (to-from)/3], color = :red)\n",
    "    end\n",
    "#    if anim == false\n",
    "#        display(scene)\n",
    "#    end\n",
    "    \n",
    "    ylims!(scene, (miny-(maxx-minx-2*maxy+2*miny)/2, maxy + (maxx-minx-2*maxy+2*miny)/2))\n",
    "    display(scene)\n",
    "end"
   ]
  },
  {
   "cell_type": "code",
   "execution_count": 19,
   "metadata": {},
   "outputs": [
    {
     "data": {
      "text/html": [
       "<iframe src=\"http://127.0.0.1:8081/abfa986b-8a7d-4b7e-93c3-c8814e1273b1\" id=\"abfa986b-8a7d-4b7e-93c3-c8814e1273b1\" style=\"position: relative; display: block; width: 100%; height: 100%; padding: 0; overflow: hidden; border: none\" scrolling=\"no\">\n",
       "</iframe>\n",
       "\n",
       "<script>\n",
       "function resize_jsserve_iframe(event) {\n",
       "   if (event.origin !== \"http://127.0.0.1:8081\") {\n",
       "       return;\n",
       "   }\n",
       "   const uuid = event.data[0];\n",
       "   const width = event.data[1];\n",
       "   const height = event.data[2];\n",
       "   const iframe = document.getElementById(uuid);\n",
       "   if (iframe) {\n",
       "       iframe.style.width = width + \"px\";\n",
       "       iframe.style.height = height + \"px\";\n",
       "   }\n",
       "};\n",
       "if (window.addEventListener) {\n",
       "   window.addEventListener(\"message\", resize_jsserve_iframe, false);\n",
       "} else if (window.attachEvent) {\n",
       "   window.attachEvent(\"onmessage\", resize_jsserve_iframe);\n",
       "}\n",
       "\n",
       "</script>\n",
       "\n"
      ]
     },
     "metadata": {},
     "output_type": "display_data"
    }
   ],
   "source": [
    "# TESTING THE ARITY 5 SPECIAL SUBROUTINE\n",
    "cutoff = 5    # if arity < cutoff then the usual backtracking applies, otherwise the faster algorithm for arity 5\n",
    "\n",
    "beads = Dict()\n",
    "\n",
    "#os = loadOS(pyramidfile)\n",
    "#os = loadOS(gliderfile)\n",
    "os = loadOS(bincountfile)\n",
    "\n",
    "# seed added to beads[] by loadOS\n",
    "\n",
    "delta = os[1]\n",
    "arity = os[2]\n",
    "seed = os[3]\n",
    "transcript = os[4]\n",
    "rules = os[5]\n",
    "\n",
    "\n",
    "#bondset = [[]]\n",
    "#for i = 1 : arity\n",
    "#\tbondset = append!(genCombSet(neighborhood, i), bondset)\n",
    "#end\n",
    "#print(\"Bondset \", bondset, \"\\n\")\n",
    "\n",
    "\n",
    "#make the seed into a path for plotting; path is array of pairs [x,y]. labels is the sequence of bead types in seed + transcript\n",
    "path = [[bead[2], bead[3]] for bead in os[3]]\n",
    "labels = [bead[1] for bead in os[3]]\n",
    "\n",
    "oritatami = Scene()\n",
    "\n",
    "#xs = -pi:0.01:pi\n",
    "#frequency = Node(3.0) # Node === Observable\n",
    "#phase = Node(0.0)\n",
    "\n",
    "#ys = lift(frequency, phase) do fr, ph\n",
    "#    @. 0.3 * sin(fr * xs - ph)\n",
    "#end\n",
    "\n",
    "#lines!(scene, xs, ys, color = :blue, linewidth = 3)\n",
    "\n",
    "#frequency[] = 9\n",
    "\n",
    "#oritatami\n",
    "\n",
    "#plotPath2(oritatami, path, labels)\n",
    "\n",
    "fold(oritatami, path, labels, 3000)"
   ]
  },
  {
   "cell_type": "code",
   "execution_count": 13,
   "metadata": {
    "collapsed": true,
    "jupyter": {
     "outputs_hidden": true,
     "source_hidden": true
    }
   },
   "outputs": [
    {
     "data": {
      "image/png": "[encoded data removed]",
      "text/plain": [
       "Scene (1280px, 720px):\n",
       "  2 Plots:\n",
       "    ├ Combined{AbstractPlotting.axis2d,Tuple{Tuple{Tuple{Float32,Float32},Tuple{Float32,Float32}}}}\n",
       "    └ Combined{AbstractPlotting.lines,Tuple{Array{Point{2,Float32},1}}}\n",
       "  1 Child Scene:\n",
       "    └ Scene (1280px, 720px)\n",
       "\n",
       "To show the scene in a window, try setting `AbstractPlotting.inline!(false)`."
      ]
     },
     "execution_count": 13,
     "metadata": {},
     "output_type": "execute_result"
    }
   ],
   "source": [
    "scene = Scene()\n",
    "\n",
    "xs = -pi:0.01:pi\n",
    "frequency = Node(3.0) # Node === Observable\n",
    "phase = Node(0.0)\n",
    "\n",
    "ys = lift(frequency, phase) do fr, ph\n",
    "    @. 0.3 * sin(fr * xs - ph)\n",
    "end\n",
    "\n",
    "lines!(scene, xs, ys, color = :blue, linewidth = 3)"
   ]
  },
  {
   "cell_type": "code",
   "execution_count": 18,
   "metadata": {},
   "outputs": [],
   "source": [
    "using WGLMakie\n",
    "WGLMakie.activate!()"
   ]
  }
 ],
 "metadata": {
  "@webio": {
   "lastCommId": null,
   "lastKernelId": null
  },
  "kernelspec": {
   "display_name": "Julia 1.5.3",
   "language": "julia",
   "name": "julia-1.5"
  },
  "language_info": {
   "file_extension": ".jl",
   "mimetype": "application/julia",
   "name": "julia",
   "version": "1.5.3"
  }
 },
 "nbformat": 4,
 "nbformat_minor": 4
}
